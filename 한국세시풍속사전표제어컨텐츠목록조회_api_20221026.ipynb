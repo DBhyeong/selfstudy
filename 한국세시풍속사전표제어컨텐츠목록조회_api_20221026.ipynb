{
 "cells": [
  {
   "cell_type": "code",
   "execution_count": 5,
   "id": "fa120170",
   "metadata": {},
   "outputs": [
    {
     "data": {
      "text/plain": [
       "{'response': {'header': {'resultCode': '00', 'resultMsg': 'NORMAL SERVICE.'},\n",
       "  'body': {'items': {'item': {'dictionary': '한국세시풍속사전',\n",
       "     'field': '구비전승',\n",
       "     'korname': '떡타령',\n",
       "     'part': '정월',\n",
       "     'qrcode': 'http://folkency.nfm.go.kr/qrcode.jsp?text=http://office.viyalab.com:8008/minsok/dic_index.jsp?DIC_ID=162',\n",
       "     'titIdx': '162',\n",
       "     'updatedate': '20101111',\n",
       "     'wchinaname': '姜騰鶴',\n",
       "     'wkorname': '강등학'}},\n",
       "   'numOfRows': '10',\n",
       "   'pageNo': '1',\n",
       "   'totalCount': '1'}}}"
      ]
     },
     "execution_count": 5,
     "metadata": {},
     "output_type": "execute_result"
    }
   ],
   "source": [
    "from urllib.request import urlopen\n",
    "from urllib.parse import urlencode, unquote, quote_plus\n",
    "import urllib\n",
    "import requests\n",
    "import json\n",
    "import pandas as pd\n",
    "from datetime import datetime,timedelta\n",
    "import warnings\n",
    "import xmltodict # 결과가 xml 형식으로 반환된다. 이것을 dict 로 바꿔주는 라이브러리다\n",
    "\n",
    "#한국세시풍속사전표제어컨텐츠목록조회\n",
    "\n",
    "\n",
    "warnings.filterwarnings('ignore')\n",
    "\n",
    "serviceKey ='%2BgRVEG2sLcCY1J7AoaObGxBO0MjarYlI%2BEj9fdydsxoG65eVtPCqxSyMwykxCYyFgqLVqKMplf7Ekl5kB5YjaA%3D%3D'\n",
    "\n",
    "tit_idx = 162 #162 부터 ~ 7800 까지\n",
    "\n",
    "url = 'http://210.204.213.171:8080/openapi/service/rest/EncyKrnSsnlPblMrlService/getSsnMrlTitItem?serviceKey={}&tit_idx={}'.format(serviceKey, tit_idx)\n",
    "\n",
    "response = requests.get(url, verify=False)\n",
    "\n",
    "#response.text\n",
    "\n",
    "#HTTPSConnectionPool(host='www.work.go.kr', port=443): Max retries exceeded with url \n",
    "# 오류 발견시 requests.get(url, verify=False) 로 넣어주면됨. \n",
    "\n",
    "\n",
    "dict_data = xmltodict.parse(response.text) #xml을 json로 변환\n",
    "json_data = json.dumps(dict_data, ensure_ascii=False)  #한글이 깨지면 ensure_ascii 코드를 False로 하면됨.\n",
    "\n",
    "r_data = json.loads(json_data)\n",
    "\n",
    "r_data\n",
    "#r_data\n",
    "#dict_data = xmltodict.parse(response.text)\n",
    "#json_data = json.dumps(dict_data, ensure_ascii=False)\n",
    "#r_data = json.loads(json_data)\n",
    "\n",
    "#r_data = json.loads(response.text)  #json 변환\n",
    "#r_data\n",
    "#data = pd.DataFrame(r_data['schoolInfo'][1]['row'])  #데이터프레임으로 보자\n",
    "#data #완료\n",
    "\n",
    "\n",
    "#r_data\n"
   ]
  },
  {
   "cell_type": "code",
   "execution_count": 6,
   "id": "3e5a4392",
   "metadata": {},
   "outputs": [
    {
     "data": {
      "text/plain": [
       "{'response': {'header': {'resultCode': '00', 'resultMsg': 'NORMAL SERVICE.'},\n",
       "  'body': {'items': {'item': [{'subname': '정의', 'txContent': '떡을 소재로 한 민요.'},\n",
       "     {'subname': '내용',\n",
       "      'txContent': '떡타령은 크게 떡의 종류를 노래한 것과 떡의 특징을 노래한 것으로 구분된다. 떡의 종류를 노래한 것은 시절의 특징에 따른 것과 지역의 특징에 따른 것으로 다시 분류된다.시절을 중심으로 내용을 구성한 떡타령은 임동권의 『한국민요집』Ⅰ ‘떡타령’에서 보이듯 “정월 대보름 달떡이요 이월 한식 송병(松餠)이요 삼월 삼진 쑥떡이로다 떡사오 떡사오 떡사려오 사월 팔일 느티떡에 오월 단오 수리치떡 유월 유두에 밀정병이라 떡사오 떡사오 떡사려오 칠월 칠석에 수단이요 팔월 가위 오려 송편 구월구일 국화떡이라 떡사오 떡사오 떡사려오 시월 상달 무시루떡 동지달 동지날 새알시미 섣달에는 골무떡이라 떡사오 떡사오 떡사려오.”처럼 각 명절에 많이 먹는 떡을 중심으로 내용이 구성된다.지역적 특징에 맞추어 내용을 구성한 떡타령은 “산중 사람은 칡뿌리떡, 해변 사람은 파래떡, 제주 사람은 감자떡, 황해도 사람은 서숙떡, 경상도 사람은 기정떡, 전라도 사람은 무지떡……”처럼 주거지와 환경에 따라 여러 가지의 떡을 늘어놓는 형식이다.떡의 특징을 묘사한 떡타령은 “얼기설기는 무시루요, 두귀가 번쩍은 송편이며, 네귀 번듯은 인절미며, 빈들빈들 빈대떡이요 도장을 맞았다 호떡이며……”처럼 떡의 소재나 모양, 이름의 인상적인 상황을 잡아내서 드러내는 형식이다.'},\n",
       "     {'subname': '의의',\n",
       "      'txContent': '떡타령은 특정한 세시풍속과 밀접한 관계를 가진 노래는 아니다. 2월 영등제 때나 별신굿을 할 때 떡장수가 떡을 팔면서 떡타령을 불렀다는 사례가 보고되어 있지만, 그러한 사례는 사람이 모이는 곳에서는 흔히 볼 수 있는 일이다. 그러나 떡은 세시풍속, 특히 명절의 정서를 담고 있는 음식이다. 그것은 떡이 명절은 물론 결혼, 기제사 같은 특정한 날에 별미로 만들어 먹는 음식이기 때문이다. 떡타령에는 떡이 가지고 있는 이러한 독특한 정서가 반영되어 있다고 할 수 있다. 떡타령을 명절에 부르면, 그러한 분위기를 더욱 고조시킬 수 있으며, 또 평소에 그것을 부르면 일상적 긴장을 벗어나 풍요롭고 즐거운 정서를 불러일으킬 수 있을 것이다.'}]},\n",
       "   'numOfRows': '10',\n",
       "   'pageNo': '1',\n",
       "   'totalCount': '3'}}}"
      ]
     },
     "execution_count": 6,
     "metadata": {},
     "output_type": "execute_result"
    }
   ],
   "source": [
    "from urllib.request import urlopen\n",
    "from urllib.parse import urlencode, unquote, quote_plus\n",
    "import urllib\n",
    "import requests\n",
    "import json\n",
    "import pandas as pd\n",
    "from datetime import datetime,timedelta\n",
    "import warnings\n",
    "import xmltodict # 결과가 xml 형식으로 반환된다. 이것을 dict 로 바꿔주는 라이브러리다\n",
    "\n",
    "#한국세시풍속사전표제어컨텐츠목록조회\n",
    "\n",
    "\n",
    "warnings.filterwarnings('ignore')\n",
    "\n",
    "serviceKey ='%2BgRVEG2sLcCY1J7AoaObGxBO0MjarYlI%2BEj9fdydsxoG65eVtPCqxSyMwykxCYyFgqLVqKMplf7Ekl5kB5YjaA%3D%3D'\n",
    "\n",
    "tit_idx = 162 #162 부터 ~ 7800 까지\n",
    "\n",
    "url = 'http://210.204.213.171:8080/openapi/service/rest/EncyKrnSsnlPblMrlService/getSsnMrlTitContentsList?serviceKey={}&tit_idx={}'.format(serviceKey, tit_idx)\n",
    "\n",
    "response = requests.get(url, verify=False)\n",
    "\n",
    "#response.text\n",
    "\n",
    "#HTTPSConnectionPool(host='www.work.go.kr', port=443): Max retries exceeded with url \n",
    "# 오류 발견시 requests.get(url, verify=False) 로 넣어주면됨. \n",
    "\n",
    "\n",
    "dict_data = xmltodict.parse(response.text) #xml을 json로 변환\n",
    "json_data = json.dumps(dict_data, ensure_ascii=False)  #한글이 깨지면 ensure_ascii 코드를 False로 하면됨.\n",
    "\n",
    "r_data = json.loads(json_data)\n",
    "\n",
    "r_data\n",
    "#r_data\n",
    "#dict_data = xmltodict.parse(response.text)\n",
    "#json_data = json.dumps(dict_data, ensure_ascii=False)\n",
    "#r_data = json.loads(json_data)\n",
    "\n",
    "#r_data = json.loads(response.text)  #json 변환\n",
    "#r_data\n",
    "#data = pd.DataFrame(r_data['schoolInfo'][1]['row'])  #데이터프레임으로 보자\n",
    "#data #완료\n",
    "\n",
    "\n",
    "#r_data\n"
   ]
  },
  {
   "cell_type": "code",
   "execution_count": null,
   "id": "f4db00dd",
   "metadata": {},
   "outputs": [],
   "source": []
  }
 ],
 "metadata": {
  "kernelspec": {
   "display_name": "Python 3 (ipykernel)",
   "language": "python",
   "name": "python3"
  },
  "language_info": {
   "codemirror_mode": {
    "name": "ipython",
    "version": 3
   },
   "file_extension": ".py",
   "mimetype": "text/x-python",
   "name": "python",
   "nbconvert_exporter": "python",
   "pygments_lexer": "ipython3",
   "version": "3.9.7"
  }
 },
 "nbformat": 4,
 "nbformat_minor": 5
}
