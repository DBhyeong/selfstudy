{
 "cells": [
  {
   "cell_type": "code",
   "execution_count": 4,
   "id": "01c70690",
   "metadata": {
    "scrolled": false
   },
   "outputs": [],
   "source": [
    "from urllib.request import urlopen\n",
    "from urllib.parse import urlencode, unquote, quote_plus\n",
    "import urllib\n",
    "import requests\n",
    "import json\n",
    "import pandas as pd\n",
    "from datetime import datetime,timedelta\n",
    "import warnings\n",
    "import xmltodict # 결과가 xml 형식으로 반환된다. 이것을 dict 로 바꿔주는 라이브러리다\n",
    "\n",
    "#문화재 목록 조회\n",
    "\n",
    "warnings.filterwarnings('ignore')\n",
    "\n",
    "url = 'http://www.cha.go.kr/cha/SearchKindOpenapiList.do'\n",
    "\n",
    "response = requests.get(url, verify=False)\n",
    "\n",
    "#HTTPSConnectionPool(host='www.work.go.kr', port=443): Max retries exceeded with url \n",
    "# 오류 발견시 requests.get(url, verify=False) 로 넣어주면됨. \n",
    "\n",
    "dict_data = xmltodict.parse(response.text) #xml을 json로 변환\n",
    "json_data = json.dumps(dict_data, ensure_ascii=False)  #한글이 깨지면 ensure_ascii 코드를 False로 하면됨.\n",
    "r_data = json.loads(json_data) # json 파일\n",
    "#r_data #목록 보기 (총 16000건)\n",
    "\n",
    "data = pd.DataFrame(r_data['result']['item'])\n",
    "\n",
    "data"
   ]
  },
  {
   "cell_type": "code",
   "execution_count": 5,
   "id": "787a09d0",
   "metadata": {},
   "outputs": [],
   "source": [
    "from urllib.request import urlopen\n",
    "from urllib.parse import urlencode, unquote, quote_plus\n",
    "import urllib\n",
    "import requests\n",
    "import json\n",
    "import pandas as pd\n",
    "from datetime import datetime,timedelta\n",
    "import warnings\n",
    "import xmltodict # 결과가 xml 형식으로 반환된다. 이것을 dict 로 바꿔주는 라이브러리다\n",
    "\n",
    "#문화재 상세 조회\n",
    "\n",
    "ccbaKdcd = '11'\n",
    "ccbaAsno = '00040000'\n",
    "ccbaCtcd = '31'\n",
    "\n",
    "warnings.filterwarnings('ignore')\n",
    "\n",
    "url = 'http://www.cha.go.kr/cha/SearchKindOpenapiDt.do?ccbaKdcd={}&ccbaAsno={}&ccbaCtcd={}'.format(ccbaKdcd, ccbaAsno, ccbaCtcd)\n",
    "\n",
    "response = requests.get(url, verify=False)\n",
    "\n",
    "#HTTPSConnectionPool(host='www.work.go.kr', port=443): Max retries exceeded with url \n",
    "# 오류 발견시 requests.get(url, verify=False) 로 넣어주면됨. \n",
    "\n",
    "dict_data = xmltodict.parse(response.text) #xml을 json로 변환\n",
    "json_data = json.dumps(dict_data, ensure_ascii=False)  #한글이 깨지면 ensure_ascii 코드를 False로 하면됨.\n",
    "r_data = json.loads(json_data) # json 파일\n",
    "#r_data #목록 보기 (총 16000건)\n",
    "\n",
    "#data = pd.DataFrame(r_data['result']['item'])\n"
   ]
  },
  {
   "cell_type": "code",
   "execution_count": 7,
   "id": "7f8761f0",
   "metadata": {
    "scrolled": false
   },
   "outputs": [],
   "source": [
    "from urllib.request import urlopen\n",
    "from urllib.parse import urlencode, unquote, quote_plus\n",
    "import urllib\n",
    "import requests\n",
    "import json\n",
    "import pandas as pd\n",
    "from datetime import datetime,timedelta\n",
    "import warnings\n",
    "import xmltodict # 결과가 xml 형식으로 반환된다. 이것을 dict 로 바꿔주는 라이브러리다\n",
    "\n",
    "#궁궐, 종묘 목록 & 상세 조회\n",
    "\n",
    "warnings.filterwarnings('ignore')\n",
    "\n",
    "url = 'https://www.heritage.go.kr/heri/gungDetail/gogungListOpenApi.do'.format(ccbaKdcd, ccbaAsno, ccbaCtcd)\n",
    "\n",
    "response = requests.get(url, verify=False)\n",
    "\n",
    "#HTTPSConnectionPool(host='www.work.go.kr', port=443): Max retries exceeded with url \n",
    "# 오류 발견시 requests.get(url, verify=False) 로 넣어주면됨. \n",
    "\n",
    "dict_data = xmltodict.parse(response.text) #xml을 json로 변환\n",
    "json_data = json.dumps(dict_data, ensure_ascii=False)  #한글이 깨지면 ensure_ascii 코드를 False로 하면됨.\n",
    "r_data = json.loads(json_data) # json 파일\n",
    "#r_data #목록 보기 (총 16000건)\n",
    "\n",
    "#data = pd.DataFrame(r_data['result']['item'])\n"
   ]
  },
  {
   "cell_type": "code",
   "execution_count": null,
   "id": "f6858dc4",
   "metadata": {},
   "outputs": [],
   "source": []
  }
 ],
 "metadata": {
  "kernelspec": {
   "display_name": "Python 3 (ipykernel)",
   "language": "python",
   "name": "python3"
  },
  "language_info": {
   "codemirror_mode": {
    "name": "ipython",
    "version": 3
   },
   "file_extension": ".py",
   "mimetype": "text/x-python",
   "name": "python",
   "nbconvert_exporter": "python",
   "pygments_lexer": "ipython3",
   "version": "3.9.7"
  }
 },
 "nbformat": 4,
 "nbformat_minor": 5
}
