{
 "cells": [
  {
   "cell_type": "code",
   "execution_count": 90,
   "id": "bc6b42c3",
   "metadata": {},
   "outputs": [
    {
     "name": "stdout",
     "output_type": "stream",
     "text": [
      "최종 완료\n"
     ]
    }
   ],
   "source": [
    "import requests\n",
    "from    bs4      import BeautifulSoup\n",
    "import time\n",
    "\n",
    "\n",
    "#http://munsu.kr/ 사이트 - 현대문학 기준\n",
    "\n",
    "f = open('C:/Users/user/raw/literature/modern_literature.csv', 'w',encoding='utf-8-sig')\n",
    "f.write(\"category,subject,wr_add\" + '\\n')\n",
    "\n",
    "for page_num in range(1, 71) :\n",
    "    #page_num = '2'\n",
    "    url = 'http://munsu.kr/php/board.php?board=modern&no=&command=list&page={}'.format(page_num)\n",
    "\n",
    "    #content.decode('euc-kr', 'replace')\n",
    "\n",
    "    raw = requests.get(url)\n",
    "    html = BeautifulSoup(raw.content.decode('euc-kr', 'replace'), 'lxml')\n",
    "    #BeautifulSoup 한글이 꺠질시 raw.content.decode('euc-kr', 'replace') 을 넣으면 한글이 제대로 나옴\n",
    "\n",
    "    #list_category = html.find_all(\"td\", {\"class\" : \"list_category\"})  #카테고리\n",
    "    #list_subject = html.find_all(\"td\", {\"class\" : \"list_subject\"}) #글제목\n",
    "\n",
    "    #table = html.find(\"table\", {\"id\" : \"mainIndexTable\"})\n",
    "    #tds = table.find_all('td') \n",
    "\n",
    "    #list_category = whole.find(\"td\", {\"class\" : \"list_category\"})\n",
    "    #list_category\n",
    "\n",
    "    #results = html.select('#mainIndexTable > tbody')\n",
    "\n",
    "    trs = html.find_all(\"tr\", {\"height\" : \"24\"})  #게시판 글 가져오기\n",
    "\n",
    "    for idx, tr in enumerate(trs) :\n",
    "        if idx >= 0 :\n",
    "            list_category = tr.find(\"td\", {\"class\" : \"list_category\"}).get_text().strip() #카테고리\n",
    "            list_subject = tr.find(\"td\", {\"class\" : \"list_subject\"}).get_text().strip() #글제목\n",
    "            list_subject = list_subject.replace(',', '')\n",
    "            #list_subject = list_subject.replace('~', '')\n",
    "            list_wr_add = tr.find_all(\"td\", {\"class\" : \"list_wr_add\"}) #주제어\n",
    "            list_wr_add_2 = list_wr_add[1].get_text().strip() #2번째꺼만\n",
    "            if list_wr_add_2 == '' :\n",
    "                list_wr_add_2 ='주제어 없음'\n",
    "            else :\n",
    "                list_wr_add_2 = list_wr_add_2.replace(\",\", \" \")\n",
    "            f.write(list_category+','+list_subject+','+list_wr_add_2+'\\n') #엑셀파일 입력\n",
    "\n",
    "f.close()        \n",
    "print('최종 완료')"
   ]
  },
  {
   "cell_type": "code",
   "execution_count": 94,
   "id": "aec01eca",
   "metadata": {},
   "outputs": [
    {
     "name": "stdout",
     "output_type": "stream",
     "text": [
      "최종 완료\n"
     ]
    }
   ],
   "source": [
    "import requests\n",
    "from    bs4      import BeautifulSoup\n",
    "import time\n",
    "\n",
    "\n",
    "#http://munsu.kr/ 사이트 - 고대문학 기준\n",
    "\n",
    "f = open('C:/Users/user/raw/literature/classic_literature.csv', 'w',encoding='utf-8-sig')\n",
    "f.write(\"category,subject,wr_add\" + '\\n')\n",
    "\n",
    "for page_num in range(1, 21) :\n",
    "    #page_num = '2'\n",
    "    url = 'http://munsu.kr/php/board.php?board=classic&no=&command=list&page={}'.format(page_num)\n",
    "\n",
    "    #content.decode('euc-kr', 'replace')\n",
    "\n",
    "    raw = requests.get(url)\n",
    "    html = BeautifulSoup(raw.content.decode('euc-kr', 'replace'), 'lxml')\n",
    "    #BeautifulSoup 한글이 꺠질시 raw.content.decode('euc-kr', 'replace') 을 넣으면 한글이 제대로 나옴\n",
    "\n",
    "    #list_category = html.find_all(\"td\", {\"class\" : \"list_category\"})  #카테고리\n",
    "    #list_subject = html.find_all(\"td\", {\"class\" : \"list_subject\"}) #글제목\n",
    "\n",
    "    #table = html.find(\"table\", {\"id\" : \"mainIndexTable\"})\n",
    "    #tds = table.find_all('td') \n",
    "\n",
    "    #list_category = whole.find(\"td\", {\"class\" : \"list_category\"})\n",
    "    #list_category\n",
    "\n",
    "    #results = html.select('#mainIndexTable > tbody')\n",
    "\n",
    "    trs = html.find_all(\"tr\", {\"height\" : \"24\"})  #게시판 글 가져오기\n",
    "\n",
    "    for idx, tr in enumerate(trs) :\n",
    "        if idx >= 0 :\n",
    "            list_category = tr.find(\"td\", {\"class\" : \"list_category\"}).get_text().strip() #카테고리\n",
    "            list_subject = tr.find(\"td\", {\"class\" : \"list_subject\"}).get_text().strip() #글제목\n",
    "            list_subject = list_subject.replace(',', '')\n",
    "            #list_subject = list_subject.replace('~', '')\n",
    "            list_wr_add = tr.find_all(\"td\", {\"class\" : \"list_wr_add\"}) #주제어\n",
    "            list_wr_add_2 = list_wr_add[1].get_text().strip() #2번째꺼만\n",
    "            if list_wr_add_2 == '' :\n",
    "                list_wr_add_2 ='주제어 없음'\n",
    "            else :\n",
    "                list_wr_add_2 = list_wr_add_2.replace(\",\", \" \")\n",
    "            f.write(list_category+','+list_subject+','+list_wr_add_2+'\\n') #엑셀파일 입력\n",
    "\n",
    "f.close()        \n",
    "print('최종 완료')"
   ]
  },
  {
   "cell_type": "code",
   "execution_count": null,
   "id": "3c6194b1",
   "metadata": {},
   "outputs": [],
   "source": []
  }
 ],
 "metadata": {
  "kernelspec": {
   "display_name": "Python 3 (ipykernel)",
   "language": "python",
   "name": "python3"
  },
  "language_info": {
   "codemirror_mode": {
    "name": "ipython",
    "version": 3
   },
   "file_extension": ".py",
   "mimetype": "text/x-python",
   "name": "python",
   "nbconvert_exporter": "python",
   "pygments_lexer": "ipython3",
   "version": "3.9.7"
  }
 },
 "nbformat": 4,
 "nbformat_minor": 5
}
