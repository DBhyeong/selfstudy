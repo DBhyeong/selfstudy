{
 "cells": [
  {
   "cell_type": "code",
   "execution_count": 10,
   "id": "a92d388b",
   "metadata": {},
   "outputs": [
    {
     "data": {
      "text/plain": [
       "{'response': {'comMsgHeader': {'RequestMsgID': None,\n",
       "   'ResponseTime': '2022-10-30 20:01:43.143',\n",
       "   'ResponseMsgID': None,\n",
       "   'SuccessYN': 'Y',\n",
       "   'ReturnCode': '00',\n",
       "   'ErrMsg': 'NORMAL SERVICE.'},\n",
       "  'msgBody': {'totalCount': '19198',\n",
       "   'cPage': '1',\n",
       "   'rows': '10',\n",
       "   'patternList': [{'did': '100263',\n",
       "     'title': '청화백자꽃문항아리',\n",
       "     'thumbnail': 'https://www.culture.go.kr/ptn/images/38/3l/383l3sy0l0q1v0e6c51glsx232p1w2hn.png'},\n",
       "    {'did': '100269',\n",
       "     'title': '목제떡살',\n",
       "     'thumbnail': 'https://www.culture.go.kr/ptn/images/r3/w3/r3w3f75d35kysxumo4hbc6efyyc3486k.png'},\n",
       "    {'did': '100275',\n",
       "     'title': '지수당 추녀',\n",
       "     'thumbnail': 'https://www.culture.go.kr/ptn/images/qc/cf/qccffoqeffk7thd3d2n2h301350b58nt.png'},\n",
       "    {'did': '100195',\n",
       "     'title': '경대',\n",
       "     'thumbnail': 'https://www.culture.go.kr/ptn/images/y5/ph/y5ph02vhwh1vmj1o5106ujnh405x6tte.png'},\n",
       "    {'did': '100283',\n",
       "     'title': '귀주머니',\n",
       "     'thumbnail': 'https://www.culture.go.kr/ptn/images/80/mt/80mt14482d5md4406gxmgm47t7q421w0.png'},\n",
       "    {'did': '100040',\n",
       "     'title': '귀접이천장',\n",
       "     'thumbnail': 'https://www.culture.go.kr/ptn/images/fg/0v/fg0vq71p61wpe83v72g4108603332310.png'},\n",
       "    {'did': '100059',\n",
       "     'title': '흑칠반',\n",
       "     'thumbnail': 'https://www.culture.go.kr/ptn/images/2e/ly/2elyw8wkj7365ick705rac725pk8pr54.png'},\n",
       "    {'did': '100001',\n",
       "     'title': '실패',\n",
       "     'thumbnail': 'https://www.culture.go.kr/ptn/images/n3/2y/n32ygvj3bud583m616y1sv221r2xq46f.png'},\n",
       "    {'did': '100017',\n",
       "     'title': '성덕대왕신종탁본족자',\n",
       "     'thumbnail': 'https://www.culture.go.kr/ptn/images/g0/04/g0048r6qc132o6q3wom07w3f31q61eoc.png'},\n",
       "    {'did': '100018',\n",
       "     'title': '성덕대왕신종탁본족자',\n",
       "     'thumbnail': 'https://www.culture.go.kr/ptn/images/0q/n3/0qn3uy712mbr5vjrk0kn3525bl5cx0bw.png'}]}}}"
      ]
     },
     "execution_count": 10,
     "metadata": {},
     "output_type": "execute_result"
    }
   ],
   "source": [
    "from urllib.request import urlopen\n",
    "from urllib.parse import urlencode, unquote, quote_plus\n",
    "import urllib\n",
    "import requests\n",
    "import json\n",
    "import pandas as pd\n",
    "from datetime import datetime,timedelta\n",
    "import warnings\n",
    "import xmltodict # 결과가 xml 형식으로 반환된다. 이것을 dict 로 바꿔주는 라이브러리다\n",
    "\n",
    "#한국문화정보원_한국의문양조회서비스\n",
    "\n",
    "#원시문양목록조회\n",
    "\n",
    "warnings.filterwarnings('ignore')\n",
    "\n",
    "serviceKey ='%2BgRVEG2sLcCY1J7AoaObGxBO0MjarYlI%2BEj9fdydsxoG65eVtPCqxSyMwykxCYyFgqLVqKMplf7Ekl5kB5YjaA%3D%3D'\n",
    "\n",
    "url = 'http://www.culture.go.kr/openapi/rest/koreanpattern/raws?serviceKey={}'.format(serviceKey)\n",
    "\n",
    "response = requests.get(url, verify=False)\n",
    "\n",
    "dict_data = xmltodict.parse(response.text) #xml을 json로 변환\n",
    "json_data = json.dumps(dict_data, ensure_ascii=False)  #한글이 깨지면 ensure_ascii 코드를 False로 하면됨.\n",
    "\n",
    "r_data = json.loads(json_data)\n",
    "\n",
    "#r_data\n",
    "r_data"
   ]
  },
  {
   "cell_type": "code",
   "execution_count": 9,
   "id": "8874a4b2",
   "metadata": {},
   "outputs": [
    {
     "data": {
      "text/plain": [
       "{'response': {'comMsgHeader': {'RequestMsgID': None,\n",
       "   'ResponseTime': '2022-10-29 17:11:29.1129',\n",
       "   'ResponseMsgID': None,\n",
       "   'SuccessYN': 'Y',\n",
       "   'ReturnCode': '00',\n",
       "   'ErrMsg': 'NORMAL SERVICE.'},\n",
       "  'msgBody': {'did': '100269',\n",
       "   'patternInfo': {'did': '100269',\n",
       "    'title': '목제떡살',\n",
       "    'thumbnail': 'https://www.culture.go.kr/ptn/images/33/27/3327rtlte7j8eam2y38u3274s2scbu80.png',\n",
       "    'alternative': None,\n",
       "    'type': '원시문양',\n",
       "    'dimension': '2D',\n",
       "    'taxonomy': '식물문/꽃문',\n",
       "    'age': '한국/조선',\n",
       "    'location': '한국문화정보원',\n",
       "    'abstractTxt': '문양은 크게 다섯 부분으로 나뉘나 각 문양부분의 크기는 일정하지 않다. 한 개의 문양이 세 번 반복되는데 동심원 모양의 마름모형문을 중앙에서 십자문양으로 나누었다. 나머지 두 개의 문양은 꽃을 표현하였다. 한 꽃은 봉오리 형상이다. 다른 꽃은 꽃잎은 8개이며, 끝이 뾰족하다. 모든 문양은 음각하였다.',\n",
       "    'abstractTxt2': None,\n",
       "    'primary': None,\n",
       "    'use': None,\n",
       "    'mat': '목제',\n",
       "    'place': '영남대학교박물관',\n",
       "    'work': None}}}}"
      ]
     },
     "execution_count": 9,
     "metadata": {},
     "output_type": "execute_result"
    }
   ],
   "source": [
    "from urllib.request import urlopen\n",
    "from urllib.parse import urlencode, unquote, quote_plus\n",
    "import urllib\n",
    "import requests\n",
    "import json\n",
    "import pandas as pd\n",
    "from datetime import datetime,timedelta\n",
    "import warnings\n",
    "import xmltodict # 결과가 xml 형식으로 반환된다. 이것을 dict 로 바꿔주는 라이브러리다\n",
    "\n",
    "#한국문화정보원_한국의문양조회서비스\n",
    "\n",
    "#개별문양상세정보조회\n",
    "\n",
    "warnings.filterwarnings('ignore')\n",
    "\n",
    "serviceKey ='%2BgRVEG2sLcCY1J7AoaObGxBO0MjarYlI%2BEj9fdydsxoG65eVtPCqxSyMwykxCYyFgqLVqKMplf7Ekl5kB5YjaA%3D%3D'\n",
    "\n",
    "did='100269' #문양 ID\n",
    "\n",
    "url = 'http://www.culture.go.kr/openapi/rest/koreanpattern/individualizations/d/?serviceKey={}&did={}'.format(serviceKey, did)\n",
    "\n",
    "response = requests.get(url, verify=False)\n",
    "\n",
    "dict_data = xmltodict.parse(response.text) #xml을 json로 변환\n",
    "json_data = json.dumps(dict_data, ensure_ascii=False)  #한글이 깨지면 ensure_ascii 코드를 False로 하면됨.\n",
    "\n",
    "r_data = json.loads(json_data)\n",
    "r_data\n",
    "\n",
    "#r_data"
   ]
  },
  {
   "cell_type": "code",
   "execution_count": null,
   "id": "b60a7b67",
   "metadata": {},
   "outputs": [],
   "source": []
  }
 ],
 "metadata": {
  "kernelspec": {
   "display_name": "Python 3 (ipykernel)",
   "language": "python",
   "name": "python3"
  },
  "language_info": {
   "codemirror_mode": {
    "name": "ipython",
    "version": 3
   },
   "file_extension": ".py",
   "mimetype": "text/x-python",
   "name": "python",
   "nbconvert_exporter": "python",
   "pygments_lexer": "ipython3",
   "version": "3.9.7"
  }
 },
 "nbformat": 4,
 "nbformat_minor": 5
}
