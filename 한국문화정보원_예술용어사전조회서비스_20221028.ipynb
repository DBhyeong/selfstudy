{
 "cells": [
  {
   "cell_type": "code",
   "execution_count": 7,
   "id": "6ae838bd",
   "metadata": {},
   "outputs": [
    {
     "data": {
      "text/plain": [
       "{'response': {'comMsgHeader': {'RequestMsgID': None,\n",
       "   'ResponseTime': '2022-10-30 19:59:30.5930',\n",
       "   'ResponseMsgID': None,\n",
       "   'SuccessYN': 'N',\n",
       "   'ReturnCode': '20',\n",
       "   'ErrMsg': 'SERVICE ACCESS DENIED ERROR.'}}}"
      ]
     },
     "execution_count": 7,
     "metadata": {},
     "output_type": "execute_result"
    }
   ],
   "source": [
    "from urllib.request import urlopen\n",
    "from urllib.parse import urlencode, unquote, quote_plus\n",
    "import urllib\n",
    "import requests\n",
    "import json\n",
    "import pandas as pd\n",
    "from datetime import datetime,timedelta\n",
    "import warnings\n",
    "import xmltodict # 결과가 xml 형식으로 반환된다. 이것을 dict 로 바꿔주는 라이브러리다\n",
    "\n",
    "#한국문화정보원_예술용어사전조회서비스\n",
    "\n",
    "#예술지식용어사전목록조회\n",
    "\n",
    "warnings.filterwarnings('ignore')\n",
    "\n",
    "serviceKey ='%2BgRVEG2sLcCY1J7AoaObGxBO0MjarYlI%2BEj9fdydsxoG65eVtPCqxSyMwykxCYyFgqLVqKMplf7Ekl5kB5YjaA%3D%3D'\n",
    "\n",
    "url = 'http://www.culture.go.kr/openapi/rest/artworddictionaries/d/?serviceKey={}'.format(serviceKey)\n",
    "\n",
    "response = requests.get(url, verify=False)\n",
    "\n",
    "dict_data = xmltodict.parse(response.text) #xml을 json로 변환\n",
    "json_data = json.dumps(dict_data, ensure_ascii=False)  #한글이 깨지면 ensure_ascii 코드를 False로 하면됨.\n",
    "\n",
    "r_data = json.loads(json_data)\n",
    "r_data\n"
   ]
  },
  {
   "cell_type": "code",
   "execution_count": null,
   "id": "c2783d1d",
   "metadata": {},
   "outputs": [],
   "source": []
  }
 ],
 "metadata": {
  "kernelspec": {
   "display_name": "Python 3 (ipykernel)",
   "language": "python",
   "name": "python3"
  },
  "language_info": {
   "codemirror_mode": {
    "name": "ipython",
    "version": 3
   },
   "file_extension": ".py",
   "mimetype": "text/x-python",
   "name": "python",
   "nbconvert_exporter": "python",
   "pygments_lexer": "ipython3",
   "version": "3.9.7"
  }
 },
 "nbformat": 4,
 "nbformat_minor": 5
}
